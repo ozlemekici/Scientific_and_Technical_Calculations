{
 "cells": [
  {
   "cell_type": "code",
   "execution_count": 1,
   "metadata": {},
   "outputs": [],
   "source": [
    "import numpy as np"
   ]
  },
  {
   "cell_type": "code",
   "execution_count": null,
   "metadata": {},
   "outputs": [],
   "source": [
    "import collections as coll\n",
    "\n",
    "cnt = coll.Counter()\n",
    "with open(\"nutuk.txt\",\"r\") as myfile:\n",
    "    data.myfile.read().replace(\"\\n\",\"\")\n",
    "    d = coll.defaultdict(int)\n",
    "    for k in data:\n",
    "        d[k] += 1\n",
    "    print(d.items())\n",
    "    print(d.keys())\n",
    "    ke=d.keys()\n",
    "    ke=coll.OrderedDict(sorted(d.items()))\n",
    "    print(ke)\n",
    "    tot = 0\n",
    "    for k in ke.keys():\n",
    "        print (k,\" \",ke[k])\n",
    "        tot += ke[k]\n",
    "    print (\"Total:\",tot)"
   ]
  },
  {
   "cell_type": "code",
   "execution_count": null,
   "metadata": {},
   "outputs": [],
   "source": [
    "print(data[1000:1500])\n",
    "data.count(\"r\")"
   ]
  },
  {
   "cell_type": "code",
   "execution_count": null,
   "metadata": {},
   "outputs": [],
   "source": [
    "\"IİŞĞÜÇÖ\".lower()"
   ]
  },
  {
   "cell_type": "code",
   "execution_count": null,
   "metadata": {},
   "outputs": [],
   "source": [
    "print(data[1000:1500].lower())"
   ]
  },
  {
   "cell_type": "code",
   "execution_count": null,
   "metadata": {},
   "outputs": [],
   "source": [
    "alphabet_str= \"abcçdefgğhıijklmnoöprsştuüvyz \"\n",
    "alphabet = [*alphabet_str]\n",
    "alphabet"
   ]
  },
  {
   "cell_type": "code",
   "execution_count": null,
   "metadata": {},
   "outputs": [],
   "source": [
    "count_letter = {}\n",
    "for letter in alphabet:\n",
    "    count_letter[letter] = data.count(letter)\n",
    "count_letter"
   ]
  },
  {
   "cell_type": "code",
   "execution_count": null,
   "metadata": {},
   "outputs": [],
   "source": [
    "results = {}\n",
    "for letter1 in alphabet:\n",
    "    for letter2 in alphabet:\n",
    "        word = letter1+letter2\n",
    "        results[word] = data.count(word) \n",
    "        print(\"{:s}: {:d}\".format(word,results[word]))"
   ]
  },
  {
   "cell_type": "code",
   "execution_count": null,
   "metadata": {},
   "outputs": [],
   "source": [
    "totally = 0\n",
    "for letter1 in alphabet:\n",
    "    for letter2 in alphabet:\n",
    "        word = letter1+letter2\n",
    "        results[word] = data.count(word)\n",
    "        totally = results[word] + totally\n",
    "        print(\"{:s}: {:d}\".format(word,results[word]))\n",
    "\n",
    "print(\"totally: \", totally)"
   ]
  },
  {
   "cell_type": "markdown",
   "metadata": {},
   "source": [
    "## Q.1:"
   ]
  },
  {
   "cell_type": "code",
   "execution_count": null,
   "metadata": {},
   "outputs": [],
   "source": [
    "P_en_ = data.count(\"en\")\n",
    "ans1 = P_en_/totally\n",
    "print(ans1)"
   ]
  },
  {
   "cell_type": "code",
   "execution_count": null,
   "metadata": {},
   "outputs": [],
   "source": [
    "P_ne_ = data.count(\"ne\")\n",
    "ans2 = P_ne_/totally\n",
    "print(ans2)"
   ]
  },
  {
   "cell_type": "markdown",
   "metadata": {},
   "source": [
    "## Q.2:"
   ]
  },
  {
   "cell_type": "code",
   "execution_count": null,
   "metadata": {},
   "outputs": [],
   "source": [
    "P_a_ = data.count(\"a\")\n",
    "print(P_a_)\n",
    "tot_count = np.sum(list(count_letter.values()))\n",
    "print(tot_count)\n",
    "ans3 = P_a_/tot_count"
   ]
  },
  {
   "cell_type": "markdown",
   "metadata": {},
   "source": [
    "## Q.3:"
   ]
  },
  {
   "cell_type": "code",
   "execution_count": null,
   "metadata": {},
   "outputs": [],
   "source": [
    "total = 0\n",
    "for letter1 in alphabet:\n",
    "    word = letter1+\"e\"\n",
    "    results[word] = data.count(word)\n",
    "    total = results[word] + total\n",
    "    print(\"{:s}: {:d}\".format(word,results[word]))"
   ]
  },
  {
   "cell_type": "code",
   "execution_count": null,
   "metadata": {},
   "outputs": [],
   "source": [
    "ans4 = (data.count(\" e\")/total)\n",
    "print(ans4)"
   ]
  },
  {
   "cell_type": "markdown",
   "metadata": {},
   "source": [
    "## Q.4:"
   ]
  },
  {
   "cell_type": "code",
   "execution_count": null,
   "metadata": {},
   "outputs": [],
   "source": [
    "h_a = np.log2(1/(data.count(\"a\")/tot_count))\n",
    "h_a"
   ]
  },
  {
   "cell_type": "code",
   "execution_count": null,
   "metadata": {},
   "outputs": [],
   "source": [
    "for dfg in alphabet:\n",
    "    h_i = np.log2(1/(data.count(dfg)/tot_count))\n",
    "    print(dfg,h_i)"
   ]
  },
  {
   "cell_type": "markdown",
   "metadata": {},
   "source": [
    "## Q.5:"
   ]
  },
  {
   "cell_type": "code",
   "execution_count": null,
   "metadata": {},
   "outputs": [],
   "source": [
    "cvb = 0\n",
    "for rty in alphabet:\n",
    "    cvb = data.count(rty)/tot_count*np.log2(1/(data.count(rty)/tot_count))"
   ]
  },
  {
   "cell_type": "code",
   "execution_count": null,
   "metadata": {},
   "outputs": [],
   "source": [
    "cvb"
   ]
  },
  {
   "cell_type": "code",
   "execution_count": null,
   "metadata": {},
   "outputs": [],
   "source": []
  }
 ],
 "metadata": {
  "kernelspec": {
   "display_name": "Python 3.10.7 64-bit",
   "language": "python",
   "name": "python3"
  },
  "language_info": {
   "codemirror_mode": {
    "name": "ipython",
    "version": 3
   },
   "file_extension": ".py",
   "mimetype": "text/x-python",
   "name": "python",
   "nbconvert_exporter": "python",
   "pygments_lexer": "ipython3",
   "version": "3.10.7"
  },
  "orig_nbformat": 4,
  "vscode": {
   "interpreter": {
    "hash": "301043a8980626b0602b2d9af8b301e7c552221303836670c0159a3354956dce"
   }
  }
 },
 "nbformat": 4,
 "nbformat_minor": 2
}
